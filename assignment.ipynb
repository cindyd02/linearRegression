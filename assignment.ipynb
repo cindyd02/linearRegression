{
  "cells": [
    {
      "cell_type": "markdown",
      "id": "e0c7b14a-e5aa-4abc-b48b-b8a9d20dacac",
      "metadata": {
        "id": "e0c7b14a-e5aa-4abc-b48b-b8a9d20dacac"
      },
      "source": [
        "# Assignment: Linear Models\n",
        "## Foundations of Machine Learning\n",
        "## Do Q1 and one other question"
      ]
    },
    {
      "attachments": {},
      "cell_type": "markdown",
      "id": "bf4826b0",
      "metadata": {
        "id": "bf4826b0"
      },
      "source": [
        "**Q0.** Please answer the following questions in your own words.\n",
        "\n",
        "### 1. What makes a model \"linear\"? \"Linear\" in what?\n",
        "\n",
        "A model is \"linear\" if it has a linear relationship between the input variables (predictors) and the output variable (response). This means that the change in the output is directly proportional to the change in the input variables. In mathematical terms, it takes the form \n",
        "$y = \\beta_0 + \\beta_1x_1 + \\beta_2x_2 + \\cdots + \\beta_nx_n$, where each $\\beta_i$ is a coefficient.\n",
        "\n",
        "### 2. How do you interpret the coefficient for a dummy/one-hot-encoded variable?\n",
        "\n",
        "The coefficient for a dummy variable represents the difference in the dependent variable $y$ between the category coded as 1 and the reference category coded as 0, holding all other variables constant. This interpretation changes if the model includes an intercept. If the model does not have an intercept, the coefficient itself can be the mean for that category.\n",
        "\n",
        "### 3. Can linear regression be used for classification? Explain why, or why not.\n",
        "\n",
        "Linear regression can technically be used for classification by setting a threshold on the predicted continuous values (e.g., above 0.5 for class 1 and below 0.5 for class 0). However, it is not ideal because it assumes a continuous relationship and does not handle class probabilities well. Logistic regression or other classification algorithms are better suited for classification tasks.\n",
        "\n",
        "### 4. What are signs that your linear model is over-fitting?\n",
        "\n",
        "Signs of over-fitting in a linear model include:\n",
        "\n",
        "- High accuracy on training data but poor performance on validation/testing data.\n",
        "- Very low training error compared to validation error.\n",
        "- The model fits the noise in the data rather than the underlying pattern.\n",
        "\n",
        "### 5. Clearly explain multi-colinearity using the two-stage least squares technique.\n",
        "\n",
        "Multi-colinearity occurs when two or more predictor variables in a regression model are highly correlated, leading to unreliable estimates of coefficients. In two-stage least squares (2SLS), you first use an instrumental variable that is correlated with the endogenous predictor but uncorrelated with the error term. In the first stage, regress the problematic variable on the instrument and other exogenous variables. In the second stage, use the predicted values from the first stage in place of the problematic variable in the main regression model. This helps to mitigate multi-colinearity.\n",
        "\n",
        "### 6. What are two ways to incorporate nonlinear relationships between your target and your features?\n",
        "\n",
        "Two ways to incorporate nonlinear relationships include:\n",
        "\n",
        "1. Polynomial features: Add polynomial terms (e.g., $x^2$, $x^3$) of the predictors to the model.\n",
        "2. Interaction terms: Include products of predictors (e.g., $x_1 \\times x_2$) to model interactions between variables.\n",
        "\n",
        "### 7. What is the interpretation of the intercept? A slope coefficient for a variable? The coefficient for a dummy/one-hot-encoded variable?\n",
        "\n",
        "- Intercept: The expected value of the dependent variable when all predictors are zero.\n",
        "- Slope coefficient: The change in the dependent variable for a one-unit change in the predictor, holding all other variables constant.\n",
        "- Coefficient for a dummy variable: The difference in the dependent variable between the category coded as 1 and the reference category coded as 0."
      ]
    },
    {
      "attachments": {},
      "cell_type": "markdown",
      "id": "25bf83c6-ff44-42d6-9b33-8be1b945860d",
      "metadata": {
        "id": "25bf83c6-ff44-42d6-9b33-8be1b945860d"
      },
      "source": [
        "**Q1.** Load `./data/Q1_clean.csv`. The data include\n",
        "\n",
        "- `Price` per night\n",
        "- `Review Scores Rating`: The average rating for the property\n",
        "- `Neighbourhood `: The bourough of NYC. Note the space, or rename the variable.\n",
        "- `Property Type`: The kind of dwelling\n",
        "- `Room Type`: The kind of space being rented\n",
        "\n",
        "1. Compute the average prices and scores by `Neighbourhood `; which bourough is the most expensive on average? Create a kernel density plot of price and log price, grouping by `Neighbourhood `.\n"
      ]
    },
    {
      "cell_type": "code",
      "execution_count": 1,
      "id": "28ea9577",
      "metadata": {},
      "outputs": [
        {
          "data": {
            "text/html": [
              "<div>\n",
              "<style scoped>\n",
              "    .dataframe tbody tr th:only-of-type {\n",
              "        vertical-align: middle;\n",
              "    }\n",
              "\n",
              "    .dataframe tbody tr th {\n",
              "        vertical-align: top;\n",
              "    }\n",
              "\n",
              "    .dataframe thead th {\n",
              "        text-align: right;\n",
              "    }\n",
              "</style>\n",
              "<table border=\"1\" class=\"dataframe\">\n",
              "  <thead>\n",
              "    <tr style=\"text-align: right;\">\n",
              "      <th></th>\n",
              "      <th>Price</th>\n",
              "      <th>Review Scores Rating</th>\n",
              "      <th>Neighbourhood</th>\n",
              "      <th>Property Type</th>\n",
              "      <th>Room Type</th>\n",
              "    </tr>\n",
              "  </thead>\n",
              "  <tbody>\n",
              "    <tr>\n",
              "      <th>0</th>\n",
              "      <td>549</td>\n",
              "      <td>96.0</td>\n",
              "      <td>Manhattan</td>\n",
              "      <td>Apartment</td>\n",
              "      <td>Private room</td>\n",
              "    </tr>\n",
              "    <tr>\n",
              "      <th>1</th>\n",
              "      <td>149</td>\n",
              "      <td>100.0</td>\n",
              "      <td>Brooklyn</td>\n",
              "      <td>Apartment</td>\n",
              "      <td>Entire home/apt</td>\n",
              "    </tr>\n",
              "    <tr>\n",
              "      <th>2</th>\n",
              "      <td>250</td>\n",
              "      <td>100.0</td>\n",
              "      <td>Manhattan</td>\n",
              "      <td>Apartment</td>\n",
              "      <td>Entire home/apt</td>\n",
              "    </tr>\n",
              "    <tr>\n",
              "      <th>3</th>\n",
              "      <td>90</td>\n",
              "      <td>94.0</td>\n",
              "      <td>Brooklyn</td>\n",
              "      <td>Apartment</td>\n",
              "      <td>Private room</td>\n",
              "    </tr>\n",
              "    <tr>\n",
              "      <th>4</th>\n",
              "      <td>270</td>\n",
              "      <td>90.0</td>\n",
              "      <td>Manhattan</td>\n",
              "      <td>Apartment</td>\n",
              "      <td>Entire home/apt</td>\n",
              "    </tr>\n",
              "  </tbody>\n",
              "</table>\n",
              "</div>"
            ],
            "text/plain": [
              "   Price  Review Scores Rating Neighbourhood  Property Type        Room Type\n",
              "0    549                  96.0      Manhattan     Apartment     Private room\n",
              "1    149                 100.0       Brooklyn     Apartment  Entire home/apt\n",
              "2    250                 100.0      Manhattan     Apartment  Entire home/apt\n",
              "3     90                  94.0       Brooklyn     Apartment     Private room\n",
              "4    270                  90.0      Manhattan     Apartment  Entire home/apt"
            ]
          },
          "execution_count": 1,
          "metadata": {},
          "output_type": "execute_result"
        }
      ],
      "source": [
        "import matplotlib.pyplot as plt\n",
        "import pandas as pd\n",
        "import seaborn as sns\n",
        "\n",
        "df = pd.read_csv('./data/Q1_clean.csv')\n",
        "df.head()"
      ]
    },
    {
      "cell_type": "code",
      "execution_count": 3,
      "id": "ec5957a8",
      "metadata": {},
      "outputs": [
        {
          "name": "stdout",
          "output_type": "stream",
          "text": [
            "                     Price  Review Scores Rating\n",
            "Neighbourhood                                   \n",
            "Manhattan       183.664286             91.801496\n",
            "Staten Island   146.166667             90.843750\n",
            "Brooklyn        127.747378             92.363497\n",
            "Queens           96.857233             91.549057\n",
            "Bronx            75.276498             91.654378\n",
            "\n",
            "The most expensive borough on average is: Manhattan\n"
          ]
        },
        {
          "data": {
            "image/png": "[encoded data removed]",
            "text/plain": [
              "<Figure size 1200x500 with 2 Axes>"
            ]
          },
          "metadata": {},
          "output_type": "display_data"
        }
      ],
      "source": [
        "avg_by_neighbourhood = df.groupby('Neighbourhood ')[['Price', 'Review Scores Rating']].mean()\n",
        "print(avg_by_neighbourhood.sort_values('Price', ascending=False))\n",
        "\n",
        "most_expensive = avg_by_neighbourhood['Price'].idxmax()\n",
        "print(f\"\\nThe most expensive borough on average is: {most_expensive}\")\n",
        "\n",
        "plt.figure(figsize=(12, 5))\n",
        "\n",
        "plt.subplot(1, 2, 1)\n",
        "sns.kdeplot(data=df, x='Price', hue='Neighbourhood ', fill=True)\n",
        "plt.title('Kernel Density Plot of Price by Neighbourhood')\n",
        "\n",
        "plt.subplot(1, 2, 2)\n",
        "sns.kdeplot(data=df, x='Price', hue='Neighbourhood ', fill=True, log_scale=True)\n",
        "plt.title('Kernel Density Plot of Log Price by Neighbourhood')\n",
        "\n",
        "plt.tight_layout()\n",
        "plt.show()"
      ]
    },
    {
      "attachments": {},
      "cell_type": "markdown",
      "id": "43184c15",
      "metadata": {},
      "source": [
        "2. Regress price on `Neighbourhood ` by creating the appropriate dummy/one-hot-encoded variables, without an intercept in the linear model and using all the data. Compare the coefficients in the regression to the table from part 1. What pattern do you see? What are the coefficients in a regression of a continuous variable on one categorical variable?"
      ]
    },
    {
      "cell_type": "code",
      "execution_count": 27,
      "id": "5c631d63",
      "metadata": {},
      "outputs": [
        {
          "name": "stdout",
          "output_type": "stream",
          "text": [
            "        variable  coefficient\n",
            "0          Bronx    75.276498\n",
            "1       Brooklyn   127.747378\n",
            "2      Manhattan   183.664286\n",
            "3         Queens    96.857233\n",
            "4  Staten Island   146.166667\n",
            "\n",
            "Average prices by Neighbourhood:\n"
          ]
        },
        {
          "data": {
            "text/plain": [
              "Neighbourhood \n",
              "Manhattan        183.664286\n",
              "Staten Island    146.166667\n",
              "Brooklyn         127.747378\n",
              "Queens            96.857233\n",
              "Bronx             75.276498\n",
              "Name: Price, dtype: float64"
            ]
          },
          "execution_count": 27,
          "metadata": {},
          "output_type": "execute_result"
        }
      ],
      "source": [
        "y = df['Price']\n",
        "X = pd.get_dummies(df['Neighbourhood '], dtype='int')\n",
        "\n",
        "from sklearn import linear_model\n",
        "reg = linear_model.LinearRegression(fit_intercept=False).fit(X, y)  # Run regression\n",
        "\n",
        "results = pd.DataFrame({'variable': reg.feature_names_in_, 'coefficient': reg.coef_})  # Regression coefficients\n",
        "print(results)\n",
        "\n",
        "avg_prices = df.groupby('Neighbourhood ')['Price'].mean().sort_values(ascending=False)\n",
        "print(\"\\nAverage prices by Neighbourhood:\")\n",
        "print(avg_prices)"
      ]
    },
    {
      "attachments": {},
      "cell_type": "markdown",
      "id": "5739b4ed",
      "metadata": {},
      "source": [
        "The coefficients obtained from the regression without an intercept are identical to the average prices for each neighbourhood calculated in part 1. This pattern indicates that the regression is effectively computing the mean price for each neighbourhood since no other variables are included in the model. In this context, the coefficients represent the average price for listings in each neighbourhood, demonstrating that when regressing a continuous variable on a single categorical variable without an intercept, the coefficients reflect the group means for each category."
      ]
    },
    {
      "attachments": {},
      "cell_type": "markdown",
      "id": "1c190299",
      "metadata": {},
      "source": [
        "3. Repeat part 2, but leave an intercept in the linear model. How do you have to handle the creation of the dummies differently? What is the intercept? Interpret the coefficients. How can I get the coefficients in part 2 from these new coefficients?\n"
      ]
    },
    {
      "cell_type": "code",
      "execution_count": 26,
      "id": "05af573c",
      "metadata": {},
      "outputs": [
        {
          "data": {
            "text/html": [
              "<div>\n",
              "<style scoped>\n",
              "    .dataframe tbody tr th:only-of-type {\n",
              "        vertical-align: middle;\n",
              "    }\n",
              "\n",
              "    .dataframe tbody tr th {\n",
              "        vertical-align: top;\n",
              "    }\n",
              "\n",
              "    .dataframe thead th {\n",
              "        text-align: right;\n",
              "    }\n",
              "</style>\n",
              "<table border=\"1\" class=\"dataframe\">\n",
              "  <thead>\n",
              "    <tr style=\"text-align: right;\">\n",
              "      <th></th>\n",
              "      <th>variable</th>\n",
              "      <th>coefficient</th>\n",
              "    </tr>\n",
              "  </thead>\n",
              "  <tbody>\n",
              "    <tr>\n",
              "      <th>0</th>\n",
              "      <td>intercept</td>\n",
              "      <td>75.276498</td>\n",
              "    </tr>\n",
              "    <tr>\n",
              "      <th>1</th>\n",
              "      <td>Brooklyn</td>\n",
              "      <td>52.470881</td>\n",
              "    </tr>\n",
              "    <tr>\n",
              "      <th>2</th>\n",
              "      <td>Manhattan</td>\n",
              "      <td>108.387789</td>\n",
              "    </tr>\n",
              "    <tr>\n",
              "      <th>3</th>\n",
              "      <td>Queens</td>\n",
              "      <td>21.580735</td>\n",
              "    </tr>\n",
              "    <tr>\n",
              "      <th>4</th>\n",
              "      <td>Staten Island</td>\n",
              "      <td>70.890169</td>\n",
              "    </tr>\n",
              "  </tbody>\n",
              "</table>\n",
              "</div>"
            ],
            "text/plain": [
              "        variable  coefficient\n",
              "0      intercept    75.276498\n",
              "1       Brooklyn    52.470881\n",
              "2      Manhattan   108.387789\n",
              "3         Queens    21.580735\n",
              "4  Staten Island    70.890169"
            ]
          },
          "execution_count": 26,
          "metadata": {},
          "output_type": "execute_result"
        }
      ],
      "source": [
        "y = df['Price']\n",
        "X = pd.get_dummies(df['Neighbourhood '], dtype='int', drop_first=True)  \n",
        "\n",
        "from sklearn import linear_model\n",
        "reg = linear_model.LinearRegression(fit_intercept=True).fit(X, y)  \n",
        "\n",
        "results = pd.DataFrame({'variable': ['intercept'] + list(reg.feature_names_in_), \n",
        "                        'coefficient': [reg.intercept_] + list(reg.coef_)}) \n",
        "results\n"
      ]
    },
    {
      "attachments": {},
      "cell_type": "markdown",
      "id": "456f8168",
      "metadata": {},
      "source": [
        "The regression with an intercept automatically omitted one category (Bronx) to avoid multicollinearity. This omitted category becomes the reference, represented by the intercept value of 75.276498, which is the average price for Bronx listings. The coefficients for other neighborhoods now show the price difference relative to Bronx. For instance, Manhattan's coefficient of 108.387789 indicates it's about $108.39 more expensive than Bronx on average. To obtain the absolute average prices (as in part 2), add each coefficient to the intercept. For example, Manhattan's average price would be 75.276498 + 108.387789 = 183.664287, matching its coefficient from part 2. This method demonstrates how including an intercept changes coefficient interpretation from absolute averages to relative differences."
      ]
    },
    {
      "attachments": {},
      "cell_type": "markdown",
      "id": "2acd16dc",
      "metadata": {},
      "source": [
        "4. Split the sample 80/20 into a training and a test set. Run a regression of `Price` on `Review Scores Rating` and `Neighbourhood `. What is the $R^2$ and RMSE on the test set? What is the coefficient on `Review Scores Rating`? What is the most expensive kind of property you can rent?"
      ]
    },
    {
      "cell_type": "code",
      "execution_count": 19,
      "id": "79be16eb",
      "metadata": {},
      "outputs": [
        {
          "name": "stdout",
          "output_type": "stream",
          "text": [
            "R² on test set: 0.0670\n",
            "RMSE on test set: 125.0109\n"
          ]
        },
        {
          "data": {
            "text/html": [
              "<div>\n",
              "<style scoped>\n",
              "    .dataframe tbody tr th:only-of-type {\n",
              "        vertical-align: middle;\n",
              "    }\n",
              "\n",
              "    .dataframe tbody tr th {\n",
              "        vertical-align: top;\n",
              "    }\n",
              "\n",
              "    .dataframe thead th {\n",
              "        text-align: right;\n",
              "    }\n",
              "</style>\n",
              "<table border=\"1\" class=\"dataframe\">\n",
              "  <thead>\n",
              "    <tr style=\"text-align: right;\">\n",
              "      <th></th>\n",
              "      <th>variable</th>\n",
              "      <th>coefficient</th>\n",
              "    </tr>\n",
              "  </thead>\n",
              "  <tbody>\n",
              "    <tr>\n",
              "      <th>0</th>\n",
              "      <td>Review Scores Rating</td>\n",
              "      <td>1.032257</td>\n",
              "    </tr>\n",
              "    <tr>\n",
              "      <th>1</th>\n",
              "      <td>Bronx</td>\n",
              "      <td>-17.261392</td>\n",
              "    </tr>\n",
              "    <tr>\n",
              "      <th>2</th>\n",
              "      <td>Brooklyn</td>\n",
              "      <td>32.180888</td>\n",
              "    </tr>\n",
              "    <tr>\n",
              "      <th>3</th>\n",
              "      <td>Manhattan</td>\n",
              "      <td>89.421020</td>\n",
              "    </tr>\n",
              "    <tr>\n",
              "      <th>4</th>\n",
              "      <td>Queens</td>\n",
              "      <td>4.050208</td>\n",
              "    </tr>\n",
              "    <tr>\n",
              "      <th>5</th>\n",
              "      <td>Staten Island</td>\n",
              "      <td>61.576393</td>\n",
              "    </tr>\n",
              "  </tbody>\n",
              "</table>\n",
              "</div>"
            ],
            "text/plain": [
              "               variable  coefficient\n",
              "0  Review Scores Rating     1.032257\n",
              "1                 Bronx   -17.261392\n",
              "2              Brooklyn    32.180888\n",
              "3             Manhattan    89.421020\n",
              "4                Queens     4.050208\n",
              "5         Staten Island    61.576393"
            ]
          },
          "execution_count": 19,
          "metadata": {},
          "output_type": "execute_result"
        }
      ],
      "source": [
        "from sklearn.model_selection import train_test_split\n",
        "from sklearn.linear_model import LinearRegression\n",
        "from sklearn.metrics import r2_score, mean_squared_error\n",
        "import numpy as np\n",
        "import pandas as pd\n",
        "\n",
        "X = df[['Review Scores Rating', 'Neighbourhood ']]\n",
        "y = df['Price']\n",
        "\n",
        "X_train, X_test, y_train, y_test = train_test_split(X, y, test_size=0.2, random_state=100)\n",
        "\n",
        "Z_train = pd.concat([X_train['Review Scores Rating'], \n",
        "                     pd.get_dummies(X_train['Neighbourhood '], dtype='int')], axis=1)\n",
        "Z_test = pd.concat([X_test['Review Scores Rating'], \n",
        "                    pd.get_dummies(X_test['Neighbourhood '], dtype='int')], axis=1)\n",
        "\n",
        "model = LinearRegression(fit_intercept=False)\n",
        "model.fit(Z_train, y_train)\n",
        "\n",
        "y_pred = model.predict(Z_test)\n",
        "\n",
        "r2 = r2_score(y_test, y_pred)\n",
        "rmse = np.sqrt(mean_squared_error(y_test, y_pred))\n",
        "\n",
        "print(f\"R² on test set: {r2:.4f}\")\n",
        "print(f\"RMSE on test set: {rmse:.4f}\")\n",
        "\n",
        "results = pd.DataFrame({'variable': model.feature_names_in_, 'coefficient': model.coef_})\n",
        "results"
      ]
    },
    {
      "attachments": {},
      "cell_type": "markdown",
      "id": "7bd9b341",
      "metadata": {},
      "source": [
        "The calculation 100 (property rate at 100) ×1.03(increase in price for each additional point in the review scores rating) +89.421020 (additional cost associated with being located in Manhattan) results in approximately 192.64. This means that a property in Manhattan with a Review Score Rating of 100 is predicted to cost about $192.64 per night"
      ]
    },
    {
      "attachments": {},
      "cell_type": "markdown",
      "id": "ee37bd9c",
      "metadata": {},
      "source": [
        "\n",
        "5. Split the sample 80/20 into a training and a test set. Run a regression of `Price` on `Review Scores Rating` and `Neighbourhood ` and `Property Type`. What is the $R^2$ and RMSE on the test set? What is the coefficient on `Review Scores Rating`? What is the most expensive kind of property you can rent?\n"
      ]
    },
    {
      "cell_type": "code",
      "execution_count": 25,
      "id": "3000194f",
      "metadata": {},
      "outputs": [
        {
          "name": "stdout",
          "output_type": "stream",
          "text": [
            "R² on test set: 0.0752\n",
            "RMSE on test set: 124.4642\n",
            "Coefficient for Review Scores Rating: 1.0158\n"
          ]
        },
        {
          "data": {
            "text/plain": [
              "{'Neighbourhood _Bronx': -27.672763761199178,\n",
              " 'Neighbourhood _Brooklyn': 29.24259788817109,\n",
              " 'Neighbourhood _Manhattan': 91.74987365964007,\n",
              " 'Neighbourhood _Queens': -0.37342068565995284,\n",
              " 'Neighbourhood _Staten Island': 44.825719454256614,\n",
              " 'Property Type_Apartment': -2.4971769530770187,\n",
              " 'Property Type_Bed & Breakfast': -33.82890895825207,\n",
              " 'Property Type_Boat': 64.45279951250002,\n",
              " 'Property Type_Bungalow': 51.26009456159262,\n",
              " 'Property Type_Cabin': 31.44167085171393,\n",
              " 'Property Type_Camper/RV': -15.877886947199586,\n",
              " 'Property Type_Castle': -43.333807372109796,\n",
              " 'Property Type_Chalet': -30.810692263519734,\n",
              " 'Property Type_Condominium': 92.34544042970543,\n",
              " 'Property Type_Dorm': -52.19446152421991,\n",
              " 'Property Type_House': 30.64297658089853,\n",
              " 'Property Type_Lighthouse': -91.82653160065526,\n",
              " 'Property Type_Loft': 66.94127155668082,\n",
              " 'Property Type_Other': 32.32902665729397,\n",
              " 'Property Type_Townhouse': 69.78603621386848,\n",
              " 'Property Type_Treehouse': -71.11205665238157,\n",
              " 'Property Type_Villa': 40.054212462352815}"
            ]
          },
          "execution_count": 25,
          "metadata": {},
          "output_type": "execute_result"
        }
      ],
      "source": [
        "from sklearn.model_selection import train_test_split\n",
        "from sklearn.linear_model import LinearRegression\n",
        "from sklearn.metrics import r2_score, mean_squared_error\n",
        "import numpy as np\n",
        "import pandas as pd\n",
        "\n",
        "X = df[['Review Scores Rating', 'Neighbourhood ', 'Property Type']]\n",
        "y = df['Price']\n",
        "\n",
        "X_train, X_test, y_train, y_test = train_test_split(X, y, test_size=0.2, random_state=100)\n",
        "\n",
        "Z_train = pd.get_dummies(X_train, columns=['Neighbourhood ', 'Property Type'], dtype='int')\n",
        "Z_test = pd.get_dummies(X_test, columns=['Neighbourhood ', 'Property Type'], dtype='int')\n",
        "\n",
        "for col in Z_train.columns:\n",
        "    if col not in Z_test.columns:\n",
        "        Z_test[col] = 0\n",
        "\n",
        "Z_test = Z_test[Z_train.columns]\n",
        "\n",
        "model = LinearRegression(fit_intercept=False)\n",
        "model.fit(Z_train, y_train)\n",
        "\n",
        "y_pred = model.predict(Z_test)\n",
        "\n",
        "r2 = r2_score(y_test, y_pred)\n",
        "rmse = np.sqrt(mean_squared_error(y_test, y_pred))\n",
        "\n",
        "print(f\"R² on test set: {r2:.4f}\")\n",
        "print(f\"RMSE on test set: {rmse:.4f}\")\n",
        "\n",
        "review_scores_coef = model.coef_[0]\n",
        "print(f\"Coefficient for Review Scores Rating: {review_scores_coef:.4f}\")\n",
        "\n",
        "property_coeffs = dict(zip(Z_train.columns[1:], model.coef_[1:]))\n",
        "property_coeffs\n"
      ]
    },
    {
      "attachments": {},
      "cell_type": "markdown",
      "id": "ec8ba0a2",
      "metadata": {},
      "source": [
        "Based on the property coefficients, the most expensive kind of property you can rent is a Condominium."
      ]
    },
    {
      "attachments": {},
      "cell_type": "markdown",
      "id": "a23e0ae4",
      "metadata": {},
      "source": [
        "6. What does the coefficient on `Review Scores Rating` mean if it changes from part 4 to 5? Hint: Think about how multilple linear regression works.\n"
      ]
    },
    {
      "cell_type": "markdown",
      "id": "8e69867f",
      "metadata": {},
      "source": [
        "The slight decrease in the coefficient for 'Review Scores Rating' from 1.032257 in part 4 to 1.0158 in part 5 demonstrates a key principle of multiple linear regression. In part 4, we didn't include information about Neighbourhood and Property Type, while in part 5, we did. This change reveals that some of the variation in prices previously attributed to Review Scores Rating is actually explained by the Neighbourhood and Property Type. By controlling for these additional factors, the other variables, including Review Scores Rating, become slightly less powerful predictors because some of their predictive power is correlated with Neighbourhood and Property Type. This is why we see a small reduction in the coefficient on Review Scores Rating. The multiple regression effectively partitions the explanatory power among the variables, providing a more nuanced understanding of their relationships with Price."
      ]
    },
    {
      "attachments": {},
      "cell_type": "markdown",
      "id": "aaedeea2",
      "metadata": {},
      "source": [
        "7. (Optional) We've included `Neighborhood ` and `Property Type` separately in the model. How do you interact them, so you can have \"A bedroom in Queens\" or \"A townhouse in Manhattan\". Split the sample 80/20 into a training and a test set and run a regression including that kind of \"property type X neighborhood\" dummy, plus `Review Scores Rating`. How does the slope coefficient for `Review Scores Rating`, the $R^2$, and the RMSE change? Do they increase significantly compares to part 5? Are the coefficients in this regression just the sum of the coefficients for `Neighbourhood ` and `Property Type` from 5? What is the most expensive kind of property you can rent?"
      ]
    }
  ],
  "metadata": {
    "colab": {
      "provenance": []
    },
    "kernelspec": {
      "display_name": "Python 3 (ipykernel)",
      "language": "python",
      "name": "python3"
    },
    "language_info": {
      "codemirror_mode": {
        "name": "ipython",
        "version": 3
      },
      "file_extension": ".py",
      "mimetype": "text/x-python",
      "name": "python",
      "nbconvert_exporter": "python",
      "pygments_lexer": "ipython3",
      "version": "3.10.6"
    }
  },
  "nbformat": 4,
  "nbformat_minor": 5
}
